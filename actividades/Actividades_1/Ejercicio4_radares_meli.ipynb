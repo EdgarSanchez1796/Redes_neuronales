{
 "cells": [
  {
   "cell_type": "code",
   "execution_count": 128,
   "metadata": {},
   "outputs": [],
   "source": [
    "import numpy as np\n",
    "#import matplotlib.pyplot as plt\n",
    "\n",
    "from perceptron import train, plot\n",
    "from numpy import genfromtxt"
   ]
  },
  {
   "cell_type": "code",
   "execution_count": 130,
   "metadata": {},
   "outputs": [],
   "source": [
    "radares = genfromtxt('radar_muestras.csv', delimiter=';', skip_header = 1)"
   ]
  },
  {
   "cell_type": "code",
   "execution_count": 131,
   "metadata": {},
   "outputs": [
    {
     "data": {
      "text/plain": [
       "array([3.84297441, 5.19911503, 0.        ])"
      ]
     },
     "execution_count": 131,
     "metadata": {},
     "output_type": "execute_result"
    }
   ],
   "source": [
    "radares[0]"
   ]
  },
  {
   "cell_type": "code",
   "execution_count": 132,
   "metadata": {},
   "outputs": [],
   "source": [
    "T = radares[:, column_count - 1]\n",
    "P = radares[:, 0:(column_count - 1)]"
   ]
  },
  {
   "cell_type": "code",
   "execution_count": 133,
   "metadata": {},
   "outputs": [
    {
     "name": "stdout",
     "output_type": "stream",
     "text": [
      "101\n"
     ]
    },
    {
     "data": {
      "image/png": "[encoded data removed]",
      "text/plain": [
       "<Figure size 432x288 with 1 Axes>"
      ]
     },
     "metadata": {
      "needs_background": "light"
     },
     "output_type": "display_data"
    }
   ],
   "source": [
    "alfa = 0.01\n",
    "max_ite = 200\n",
    "\n",
    "(W, b, ite) = train(P, T, alfa, max_ite, False)\n",
    "print(ite)\n",
    "\n",
    "plot(P, T, W, b)"
   ]
  },
  {
   "cell_type": "code",
   "execution_count": 102,
   "metadata": {},
   "outputs": [
    {
     "data": {
      "text/plain": [
       "array([[ 0.2595292 , -0.07929698]])"
      ]
     },
     "execution_count": 102,
     "metadata": {},
     "output_type": "execute_result"
    }
   ],
   "source": [
    "W"
   ]
  },
  {
   "cell_type": "markdown",
   "metadata": {},
   "source": [
    "a) ¿Qué puede decir de la recta discriminante si el vector de pesos inicial es (0.9; 0) y el bias inicial es -5.2?"
   ]
  },
  {
   "cell_type": "code",
   "execution_count": 122,
   "metadata": {},
   "outputs": [],
   "source": [
    "def train(P, T, alfa, max_itera, dibujar):\n",
    "        \n",
    "    (cant_patrones, cant_atrib) = P.shape\n",
    "    #W = np.random.rand(1, cant_atrib)\n",
    "    W = np.array([0.9, 0])\n",
    "    \n",
    "    #b = np.random.rand()\n",
    "    b = -5.2\n",
    "    \n",
    "    ite = 0\n",
    "    otra_vez = True\n",
    "    \n",
    "    plt.ion()\n",
    "    plt.show()\n",
    "    \n",
    "    while ((ite <= max_itera) and otra_vez):\n",
    "        otra_vez = False\n",
    "        ite = ite + 1\n",
    "        \n",
    "        for patr in range(cant_patrones):\n",
    "            salida = b + W.dot(P[patr, :][np.newaxis].T) \n",
    "            if salida >= 0:\n",
    "                salida = 1\n",
    "            else:\n",
    "                salida = 0\n",
    "      \n",
    "            factor = alfa * (T[patr] - salida)\n",
    "            if (factor != 0):\n",
    "                otra_vez = True\n",
    "                W = W + factor * P[patr, :][np.newaxis]\n",
    "                b = b + factor\n",
    "                \n",
    "        \n",
    "        if dibujar and (cant_atrib == 2):        \n",
    "            plot(P, T, W, b, 'Iteración: ' + str(ite))\n",
    "\n",
    "    if dibujar and (cant_atrib == 2):        \n",
    "        plot(P, T, W, b, 'Iteración: ' + str(ite))\n",
    "        \n",
    "    return (W, b, ite)"
   ]
  },
  {
   "cell_type": "code",
   "execution_count": 123,
   "metadata": {
    "scrolled": true
   },
   "outputs": [
    {
     "name": "stdout",
     "output_type": "stream",
     "text": [
      "7\n"
     ]
    },
    {
     "data": {
      "image/png": "[encoded data removed]",
      "text/plain": [
       "<Figure size 432x288 with 1 Axes>"
      ]
     },
     "metadata": {
      "needs_background": "light"
     },
     "output_type": "display_data"
    }
   ],
   "source": [
    "(W, b, ite) = train(P, T, alfa, max_ite, False)\n",
    "print(ite)\n",
    "\n",
    "plot(P, T, W, b)"
   ]
  },
  {
   "cell_type": "markdown",
   "metadata": {},
   "source": [
    "La recta queda casi vertical con esos pesos "
   ]
  },
  {
   "cell_type": "markdown",
   "metadata": {},
   "source": [
    "b) ¿Qué puede decir de la recta discriminante si el vector de pesos inicial es (7; 3) y el bias inicial es -50?"
   ]
  },
  {
   "cell_type": "code",
   "execution_count": 124,
   "metadata": {},
   "outputs": [],
   "source": [
    "def train(P, T, alfa, max_itera, dibujar):\n",
    "        \n",
    "    (cant_patrones, cant_atrib) = P.shape\n",
    "    #W = np.random.rand(1, cant_atrib)\n",
    "    W = np.array([7, 3])\n",
    "    \n",
    "    #b = np.random.rand()\n",
    "    b = -50\n",
    "    \n",
    "    ite = 0\n",
    "    otra_vez = True\n",
    "    \n",
    "    plt.ion()\n",
    "    plt.show()\n",
    "    \n",
    "    while ((ite <= max_itera) and otra_vez):\n",
    "        otra_vez = False\n",
    "        ite = ite + 1\n",
    "        \n",
    "        for patr in range(cant_patrones):\n",
    "            salida = b + W.dot(P[patr, :][np.newaxis].T) \n",
    "            if salida >= 0:\n",
    "                salida = 1\n",
    "            else:\n",
    "                salida = 0\n",
    "      \n",
    "            factor = alfa * (T[patr] - salida)\n",
    "            if (factor != 0):\n",
    "                otra_vez = True\n",
    "                W = W + factor * P[patr, :][np.newaxis]\n",
    "                b = b + factor\n",
    "                \n",
    "        \n",
    "        if dibujar and (cant_atrib == 2):        \n",
    "            plot(P, T, W, b, 'Iteración: ' + str(ite))\n",
    "\n",
    "    if dibujar and (cant_atrib == 2):        \n",
    "        plot(P, T, W, b, 'Iteración: ' + str(ite))\n",
    "        \n",
    "    return (W, b, ite)"
   ]
  },
  {
   "cell_type": "code",
   "execution_count": 125,
   "metadata": {},
   "outputs": [
    {
     "name": "stdout",
     "output_type": "stream",
     "text": [
      "6\n"
     ]
    },
    {
     "data": {
      "image/png": "[encoded data removed]",
      "text/plain": [
       "<Figure size 432x288 with 1 Axes>"
      ]
     },
     "metadata": {
      "needs_background": "light"
     },
     "output_type": "display_data"
    }
   ],
   "source": [
    "(W, b, ite) = train(P, T, alfa, max_ite, False)\n",
    "print(ite)\n",
    "\n",
    "plot(P, T, W, b)"
   ]
  },
  {
   "cell_type": "markdown",
   "metadata": {},
   "source": [
    "La recta queda con un angulo obtuso, limitando mucho a al azul. "
   ]
  },
  {
   "cell_type": "markdown",
   "metadata": {},
   "source": [
    "c) ¿Qué puede decir de la recta discriminante si el vector de pesos inicial es (2; -0.5) y el bias inicial es -8?"
   ]
  },
  {
   "cell_type": "code",
   "execution_count": 126,
   "metadata": {},
   "outputs": [],
   "source": [
    "def train(P, T, alfa, max_itera, dibujar):\n",
    "        \n",
    "    (cant_patrones, cant_atrib) = P.shape\n",
    "    #W = np.random.rand(1, cant_atrib)\n",
    "    W = np.array([2, -0.5])\n",
    "    \n",
    "    #b = np.random.rand()\n",
    "    b = -8\n",
    "    \n",
    "    ite = 0\n",
    "    otra_vez = True\n",
    "    \n",
    "    plt.ion()\n",
    "    plt.show()\n",
    "    \n",
    "    while ((ite <= max_itera) and otra_vez):\n",
    "        otra_vez = False\n",
    "        ite = ite + 1\n",
    "        \n",
    "        for patr in range(cant_patrones):\n",
    "            salida = b + W.dot(P[patr, :][np.newaxis].T) \n",
    "            if salida >= 0:\n",
    "                salida = 1\n",
    "            else:\n",
    "                salida = 0\n",
    "      \n",
    "            factor = alfa * (T[patr] - salida)\n",
    "            if (factor != 0):\n",
    "                otra_vez = True\n",
    "                W = W + factor * P[patr, :][np.newaxis]\n",
    "                b = b + factor\n",
    "                \n",
    "        \n",
    "        if dibujar and (cant_atrib == 2):        \n",
    "            plot(P, T, W, b, 'Iteración: ' + str(ite))\n",
    "\n",
    "    if dibujar and (cant_atrib == 2):        \n",
    "        plot(P, T, W, b, 'Iteración: ' + str(ite))\n",
    "        \n",
    "    return (W, b, ite)"
   ]
  },
  {
   "cell_type": "code",
   "execution_count": 127,
   "metadata": {},
   "outputs": [
    {
     "name": "stdout",
     "output_type": "stream",
     "text": [
      "7\n"
     ]
    },
    {
     "data": {
      "image/png": "[encoded data removed]",
      "text/plain": [
       "<Figure size 432x288 with 1 Axes>"
      ]
     },
     "metadata": {
      "needs_background": "light"
     },
     "output_type": "display_data"
    }
   ],
   "source": [
    "(W, b, ite) = train(P, T, alfa, max_ite, False)\n",
    "print(ite)\n",
    "\n",
    "plot(P, T, W, b)"
   ]
  },
  {
   "cell_type": "markdown",
   "metadata": {},
   "source": [
    "Al contrario de la anterior, el ángulo queda agudo limitando al verde."
   ]
  },
  {
   "cell_type": "markdown",
   "metadata": {},
   "source": [
    "d) En función a lo observado en los incisos anteriores ¿Cómo clasifican los tres perceptrones conseguidos, a los datos que están en el dataset radar_desconocidos.csv?"
   ]
  },
  {
   "cell_type": "markdown",
   "metadata": {},
   "source": [
    "Siempre los clasifican bien pero, el primero hace mitad y mitad, el segundo mas a los verdes y el tercero va a tener más azules."
   ]
  }
 ],
 "metadata": {
  "kernelspec": {
   "display_name": "Python 3",
   "language": "python",
   "name": "python3"
  },
  "language_info": {
   "codemirror_mode": {
    "name": "ipython",
    "version": 3
   },
   "file_extension": ".py",
   "mimetype": "text/x-python",
   "name": "python",
   "nbconvert_exporter": "python",
   "pygments_lexer": "ipython3",
   "version": "3.7.1"
  }
 },
 "nbformat": 4,
 "nbformat_minor": 2
}
